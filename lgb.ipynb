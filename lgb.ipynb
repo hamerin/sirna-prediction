{
 "cells": [
  {
   "cell_type": "code",
   "execution_count": 2,
   "metadata": {},
   "outputs": [],
   "source": [
    "import lightgbm as lgb\n",
    "import pandas as pd\n",
    "import numpy as np\n",
    "from sklearn.model_selection import train_test_split\n",
    "from sklearn.preprocessing import MinMaxScaler"
   ]
  },
  {
   "cell_type": "code",
   "execution_count": 25,
   "metadata": {},
   "outputs": [],
   "source": [
    "\n",
    "ter_fe = {\n",
    "    \"aa\": 0.03,\n",
    "    \"uu\": 0.03,\n",
    "    \"au\": 0.38,\n",
    "    \"ua\": 0.16,\n",
    "    \"cu\": 0.55,\n",
    "    \"ag\": -0.19,\n",
    "    \"ca\": 0.08,\n",
    "    \"ug\": -0.05,\n",
    "    \"gu\": 0.55,\n",
    "    \"ac\": -0.05,\n",
    "    \"ga\": 0.39,\n",
    "    \"uc\": -0.20,\n",
    "    \"cg\": -0.10,\n",
    "    \"gg\": -0.16,\n",
    "    \"cc\": 0.0,\n",
    "    \"gc\": -0.12\n",
    "}\n",
    "\n",
    "int_fe = {\n",
    "    \"aa\": -0.87,\n",
    "    \"uu\": -0.87,\n",
    "    \"au\": -1.21,\n",
    "    \"ua\": -1.12,\n",
    "    \"cu\": -2.14,\n",
    "    \"ag\": -2.14,\n",
    "    \"ca\": -1.94,\n",
    "    \"ug\": -1.94,\n",
    "    \"gu\": -2.29,\n",
    "    \"ac\": -2.29,\n",
    "    \"ga\": -2.23,\n",
    "    \"uc\": -2.23,\n",
    "    \"cg\": -2.31,\n",
    "    \"gg\": -3.18,\n",
    "    \"cc\": -3.18,\n",
    "    \"gc\": -3.34,   \n",
    "}\n",
    "\n",
    "def encode_s(s: str):\n",
    "    s = s[:-2].lower().replace('t', 'u')\n",
    "    ther = []\n",
    "\n",
    "    for i in range(len(s)-1):\n",
    "        sub = s[i:i+2]\n",
    "        if i == 0:\n",
    "            ther.append(ter_fe[sub])\n",
    "        else:\n",
    "            ther.append(int_fe[sub])\n",
    "\n",
    "    overall_stability = sum(ther)\n",
    "    five_stability = sum(ther[:5])\n",
    "    three_stabillity = sum(ther[-5:])\n",
    "\n",
    "    gc_count = s.count('g') + s.count('c')\n",
    "    five_gc_count = s[:5].count('g') + s[:5].count('c')\n",
    "    three_gc_content = s[-5:].count('g') + s[-5:].count('c')\n",
    "\n",
    "    return [overall_stability, five_stability, three_stabillity, gc_count, five_gc_count, three_gc_content] + ther\n",
    "\n",
    "df = pd.read_csv('rna.csv')\n",
    "\n",
    "encode_u = np.frompyfunc(encode_s, 1, 1)\n",
    "\n",
    "X = np.array(encode_u(df['Sequence'].to_numpy()).tolist()).reshape(-1, 6 + 18)\n",
    "y = df['Activity'].to_numpy().reshape(-1, 1)\n",
    "\n",
    "scaler_y = MinMaxScaler()\n",
    "y_scaled = scaler_y.fit_transform(y)\n",
    "\n",
    "X_train, X_test, y_train, y_test = train_test_split(\n",
    "    X, y_scaled, test_size=0.2, random_state=42)\n",
    "\n",
    "X_train, X_val, y_train, y_val = train_test_split(\n",
    "    X_train, y_train, test_size=0.25, random_state=42)"
   ]
  },
  {
   "cell_type": "code",
   "execution_count": 26,
   "metadata": {},
   "outputs": [],
   "source": [
    "params = {'boosting_type': 'gbdt', 'num_leaves': 15, 'max_depth': -1, 'learning_rate': 0.1, 'n_estimators': 100, 'subsample_for_bin': 200, 'objective': None, 'class_weight': None, 'random_state': 42}"
   ]
  },
  {
   "cell_type": "code",
   "execution_count": 27,
   "metadata": {},
   "outputs": [
    {
     "name": "stderr",
     "output_type": "stream",
     "text": [
      "/home/hamerin/anaconda3/lib/python3.8/site-packages/sklearn/utils/validation.py:993: DataConversionWarning: A column-vector y was passed when a 1d array was expected. Please change the shape of y to (n_samples, ), for example using ravel().\n",
      "  y = column_or_1d(y, warn=True)\n"
     ]
    },
    {
     "data": {
      "text/plain": [
       "LGBMRegressor(num_leaves=15, random_state=42, subsample_for_bin=200)"
      ]
     },
     "execution_count": 27,
     "metadata": {},
     "output_type": "execute_result"
    }
   ],
   "source": [
    "model = lgb.LGBMRegressor()\n",
    "model.set_params(**params)\n",
    "model.fit(X_train, y_train)"
   ]
  },
  {
   "cell_type": "code",
   "execution_count": 28,
   "metadata": {},
   "outputs": [],
   "source": [
    "y_pred = model.predict(X_test)"
   ]
  },
  {
   "cell_type": "code",
   "execution_count": 29,
   "metadata": {},
   "outputs": [
    {
     "data": {
      "text/plain": [
       "array([[1.        , 0.87138232],\n",
       "       [0.87138232, 1.        ]])"
      ]
     },
     "execution_count": 29,
     "metadata": {},
     "output_type": "execute_result"
    }
   ],
   "source": [
    "np.corrcoef(model.predict(X_train), y_train.ravel())"
   ]
  },
  {
   "cell_type": "code",
   "execution_count": 30,
   "metadata": {},
   "outputs": [
    {
     "data": {
      "text/plain": [
       "array([[1.        , 0.57092744],\n",
       "       [0.57092744, 1.        ]])"
      ]
     },
     "execution_count": 30,
     "metadata": {},
     "output_type": "execute_result"
    }
   ],
   "source": [
    "np.corrcoef(y_pred, y_test.ravel())"
   ]
  },
  {
   "cell_type": "code",
   "execution_count": null,
   "metadata": {},
   "outputs": [],
   "source": []
  }
 ],
 "metadata": {
  "kernelspec": {
   "display_name": "Python 3.8.12 ('base')",
   "language": "python",
   "name": "python3"
  },
  "language_info": {
   "codemirror_mode": {
    "name": "ipython",
    "version": 3
   },
   "file_extension": ".py",
   "mimetype": "text/x-python",
   "name": "python",
   "nbconvert_exporter": "python",
   "pygments_lexer": "ipython3",
   "version": "3.8.12"
  },
  "orig_nbformat": 4,
  "vscode": {
   "interpreter": {
    "hash": "d992dc99bef6935113868216bda8f8f78b2ccfafefe3a81c650196168d5e8fa4"
   }
  }
 },
 "nbformat": 4,
 "nbformat_minor": 2
}
