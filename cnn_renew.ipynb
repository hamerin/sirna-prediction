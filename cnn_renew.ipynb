{
 "cells": [
  {
   "cell_type": "code",
   "execution_count": 92,
   "metadata": {},
   "outputs": [],
   "source": [
    "import pandas as pd\n",
    "import numpy as np\n",
    "import catboost as cb\n",
    "import seaborn as sns\n",
    "import matplotlib.pyplot as plt \n",
    "from tqdm import tqdm\n",
    "from sklearn.model_selection import train_test_split, KFold\n",
    "from sklearn.preprocessing import MinMaxScaler, StandardScaler, KBinsDiscretizer\n",
    "from sklearn.metrics import mean_squared_error\n",
    "\n",
    "from tensorflow import keras\n",
    "from tensorflow.keras import backend as K\n",
    "from tensorflow.keras.layers import Conv2D, Flatten, Dense, BatchNormalization, Dropout, MaxPooling2D, AveragePooling2D, Activation, Embedding, MaxPooling1D, Concatenate, Input\n",
    "from tensorflow.keras.callbacks import EarlyStopping\n",
    "\n",
    "class CatBoostEvalMetricPearson(object):\n",
    "    def get_final_error(self, error, weight):\n",
    "        return error\n",
    "\n",
    "    def is_max_optimal(self):\n",
    "        return True\n",
    "\n",
    "    def evaluate(self, approxes, target, weight):\n",
    "        assert len(approxes) == 1\n",
    "        assert len(target) == len(approxes[0])\n",
    "\n",
    "        preds = np.array(approxes[0])\n",
    "        target = np.array(target)\n",
    "\n",
    "        return np.corrcoef(target, preds)[0, 1], 0.0\n",
    "\n",
    "def pearson_metric(y_true, y_pred):\n",
    "    y_true = K.clip(y_true, K.epsilon(), 1)\n",
    "    y_pred = K.clip(y_pred, K.epsilon(), 1)\n",
    "    # normalizing stage - setting a 0 mean.\n",
    "    y_true -= K.mean(y_true, axis=-1)\n",
    "    y_pred -= K.mean(y_pred, axis=-1)\n",
    "    # normalizing stage - setting a 1 variance\n",
    "    y_true = K.l2_normalize(y_true, axis=-1)\n",
    "    y_pred = K.l2_normalize(y_pred, axis=-1)\n",
    "    # final result\n",
    "    pearson_correlation = K.sum(y_true * y_pred, axis=-1)\n",
    "    return pearson_correlation"
   ]
  },
  {
   "cell_type": "code",
   "execution_count": 3,
   "metadata": {},
   "outputs": [],
   "source": [
    "df = pd.read_csv('rna.csv')"
   ]
  },
  {
   "cell_type": "code",
   "execution_count": 11,
   "metadata": {},
   "outputs": [],
   "source": [
    "def onehot_encode(seq: str, pad: int = 11):\n",
    "    dt = {\n",
    "        \"a\": [[1], [0], [0], [0]],\n",
    "        \"g\": [[0], [1], [0], [0]],\n",
    "        \"c\": [[0], [0], [1], [0]],\n",
    "        \"u\": [[0], [0], [0], [1]],\n",
    "    }\n",
    "\n",
    "    res = [[[0]] * 4] * pad + [dt[b.lower()] for b in seq] + [[[0]] * 4] * pad\n",
    "    return res\n",
    "\n",
    "X = np.array(df['Sequence'].apply(onehot_encode).tolist())\n",
    "y = df['Activity'].to_numpy().reshape(-1, 1)"
   ]
  },
  {
   "cell_type": "code",
   "execution_count": 118,
   "metadata": {},
   "outputs": [],
   "source": [
    "def create_max_filter(k: int):\n",
    "    model = keras.Sequential([\n",
    "        Conv2D(1, kernel_size=(k, 4), activation='relu'),\n",
    "        MaxPooling2D((42 - k, 1)),\n",
    "        Flatten(),\n",
    "    ])\n",
    "\n",
    "    return model\n",
    "\n",
    "def create_avg_filter(k: int):\n",
    "    model = keras.Sequential([\n",
    "        Conv2D(1, kernel_size=(k, 4), activation='relu'),\n",
    "        AveragePooling2D((42 - k, 1)),\n",
    "        Flatten(),\n",
    "    ])\n",
    "\n",
    "    return model\n",
    "\n",
    "def create_filter(k: int):\n",
    "    model = keras.Sequential([\n",
    "        Conv2D(2, kernel_size=(k, 4), activation='relu'),\n",
    "        Flatten(),\n",
    "        Dense(4, activation='relu')\n",
    "    ])\n",
    "\n",
    "    return model"
   ]
  },
  {
   "cell_type": "code",
   "execution_count": 125,
   "metadata": {},
   "outputs": [
    {
     "name": "stdout",
     "output_type": "stream",
     "text": [
      "Model: \"model_26\"\n",
      "__________________________________________________________________________________________________\n",
      "Layer (type)                    Output Shape         Param #     Connected to                     \n",
      "==================================================================================================\n",
      "input_29 (InputLayer)           [(None, 41, 4, 1)]   0                                            \n",
      "__________________________________________________________________________________________________\n",
      "sequential_588 (Sequential)     (None, 4)            342         input_29[0][0]                   \n",
      "__________________________________________________________________________________________________\n",
      "sequential_589 (Sequential)     (None, 4)            342         input_29[0][0]                   \n",
      "__________________________________________________________________________________________________\n",
      "sequential_590 (Sequential)     (None, 4)            342         input_29[0][0]                   \n",
      "__________________________________________________________________________________________________\n",
      "sequential_591 (Sequential)     (None, 4)            342         input_29[0][0]                   \n",
      "__________________________________________________________________________________________________\n",
      "sequential_592 (Sequential)     (None, 4)            342         input_29[0][0]                   \n",
      "__________________________________________________________________________________________________\n",
      "sequential_593 (Sequential)     (None, 4)            342         input_29[0][0]                   \n",
      "__________________________________________________________________________________________________\n",
      "sequential_594 (Sequential)     (None, 4)            342         input_29[0][0]                   \n",
      "__________________________________________________________________________________________________\n",
      "sequential_595 (Sequential)     (None, 4)            342         input_29[0][0]                   \n",
      "__________________________________________________________________________________________________\n",
      "sequential_596 (Sequential)     (None, 4)            342         input_29[0][0]                   \n",
      "__________________________________________________________________________________________________\n",
      "sequential_597 (Sequential)     (None, 4)            342         input_29[0][0]                   \n",
      "__________________________________________________________________________________________________\n",
      "sequential_598 (Sequential)     (None, 4)            342         input_29[0][0]                   \n",
      "__________________________________________________________________________________________________\n",
      "sequential_599 (Sequential)     (None, 4)            342         input_29[0][0]                   \n",
      "__________________________________________________________________________________________________\n",
      "sequential_600 (Sequential)     (None, 4)            342         input_29[0][0]                   \n",
      "__________________________________________________________________________________________________\n",
      "sequential_601 (Sequential)     (None, 4)            342         input_29[0][0]                   \n",
      "__________________________________________________________________________________________________\n",
      "sequential_602 (Sequential)     (None, 4)            342         input_29[0][0]                   \n",
      "__________________________________________________________________________________________________\n",
      "sequential_603 (Sequential)     (None, 4)            342         input_29[0][0]                   \n",
      "__________________________________________________________________________________________________\n",
      "concatenate_28 (Concatenate)    (None, 64)           0           sequential_588[0][0]             \n",
      "                                                                 sequential_589[0][0]             \n",
      "                                                                 sequential_590[0][0]             \n",
      "                                                                 sequential_591[0][0]             \n",
      "                                                                 sequential_592[0][0]             \n",
      "                                                                 sequential_593[0][0]             \n",
      "                                                                 sequential_594[0][0]             \n",
      "                                                                 sequential_595[0][0]             \n",
      "                                                                 sequential_596[0][0]             \n",
      "                                                                 sequential_597[0][0]             \n",
      "                                                                 sequential_598[0][0]             \n",
      "                                                                 sequential_599[0][0]             \n",
      "                                                                 sequential_600[0][0]             \n",
      "                                                                 sequential_601[0][0]             \n",
      "                                                                 sequential_602[0][0]             \n",
      "                                                                 sequential_603[0][0]             \n",
      "__________________________________________________________________________________________________\n",
      "dense_100 (Dense)               (None, 24)           1560        concatenate_28[0][0]             \n",
      "__________________________________________________________________________________________________\n",
      "dense_101 (Dense)               (None, 1)            25          dense_100[0][0]                  \n",
      "==================================================================================================\n",
      "Total params: 7,057\n",
      "Trainable params: 7,057\n",
      "Non-trainable params: 0\n",
      "__________________________________________________________________________________________________\n"
     ]
    }
   ],
   "source": [
    "inp = Input(shape=X.shape[1:])\n",
    "# con = Concatenate()([create_max_filter(i)(inp) for i in range(4, 20)] + [create_avg_filter(i)(inp) for i in range(4, 20)])\n",
    "con = Concatenate()([create_filter(i)(inp) for i in range(4, 20)])\n",
    "den2 = Dense(24, activation='relu')(con)\n",
    "den3 = Dense(1, activation='sigmoid')(den2)\n",
    "model = keras.Model(inputs=[inp], outputs=den3)\n",
    "model.summary()"
   ]
  },
  {
   "cell_type": "code",
   "execution_count": 126,
   "metadata": {},
   "outputs": [],
   "source": [
    "model.compile(loss='mse', optimizer='adam', metrics=[pearson_metric])"
   ]
  },
  {
   "cell_type": "code",
   "execution_count": 127,
   "metadata": {},
   "outputs": [],
   "source": [
    "X_train, X_test, y_train, y_test = train_test_split(X, y, test_size=0.1)\n",
    "X_train, X_val, y_train, y_val = train_test_split(X_train, y_train, test_size=0.1111111)"
   ]
  },
  {
   "cell_type": "code",
   "execution_count": 128,
   "metadata": {},
   "outputs": [
    {
     "name": "stdout",
     "output_type": "stream",
     "text": [
      "Epoch 1/100\n",
      "61/61 [==============================] - 53s 830ms/step - loss: 0.0230 - pearson_metric: 0.1215 - val_loss: 0.0152 - val_pearson_metric: 0.5102\n",
      "Epoch 2/100\n",
      "61/61 [==============================] - 51s 829ms/step - loss: 0.0165 - pearson_metric: 0.5657 - val_loss: 0.0141 - val_pearson_metric: 0.5748\n",
      "Epoch 3/100\n",
      "61/61 [==============================] - 50s 811ms/step - loss: 0.0137 - pearson_metric: 0.6006 - val_loss: 0.0131 - val_pearson_metric: 0.5933\n",
      "Epoch 4/100\n",
      "61/61 [==============================] - 51s 833ms/step - loss: 0.0126 - pearson_metric: 0.6558 - val_loss: 0.0138 - val_pearson_metric: 0.5857\n",
      "Epoch 5/100\n",
      "61/61 [==============================] - 49s 797ms/step - loss: 0.0118 - pearson_metric: 0.6776 - val_loss: 0.0131 - val_pearson_metric: 0.5981\n",
      "Epoch 6/100\n",
      "61/61 [==============================] - 49s 812ms/step - loss: 0.0108 - pearson_metric: 0.7050 - val_loss: 0.0130 - val_pearson_metric: 0.6012\n",
      "Epoch 7/100\n",
      "61/61 [==============================] - 50s 814ms/step - loss: 0.0108 - pearson_metric: 0.7109 - val_loss: 0.0132 - val_pearson_metric: 0.5958\n"
     ]
    },
    {
     "data": {
      "text/plain": [
       "<tensorflow.python.keras.callbacks.History at 0x7fd448e09850>"
      ]
     },
     "execution_count": 128,
     "metadata": {},
     "output_type": "execute_result"
    }
   ],
   "source": [
    "earlystopping = EarlyStopping(min_delta=0.0003, patience=4, restore_best_weights=True)\n",
    "model.fit(X_train, y_train, validation_data=(X_val, y_val), epochs=100, callbacks=[earlystopping])"
   ]
  },
  {
   "cell_type": "code",
   "execution_count": 129,
   "metadata": {},
   "outputs": [
    {
     "data": {
      "text/plain": [
       "array([[1.        , 0.55645382],\n",
       "       [0.55645382, 1.        ]])"
      ]
     },
     "execution_count": 129,
     "metadata": {},
     "output_type": "execute_result"
    }
   ],
   "source": [
    "y_pred = model.predict(X_test)\n",
    "\n",
    "np.corrcoef(y_test.ravel(), y_pred.ravel())"
   ]
  },
  {
   "cell_type": "code",
   "execution_count": 100,
   "metadata": {},
   "outputs": [
    {
     "data": {
      "text/plain": [
       "<AxesSubplot:>"
      ]
     },
     "execution_count": 100,
     "metadata": {},
     "output_type": "execute_result"
    },
    {
     "data": {
      "image/png": "[encoded data removed]",
      "text/plain": [
       "<Figure size 432x288 with 1 Axes>"
      ]
     },
     "metadata": {
      "needs_background": "light"
     },
     "output_type": "display_data"
    }
   ],
   "source": [
    "pd.Series(y_pred.ravel()).hist()"
   ]
  },
  {
   "cell_type": "code",
   "execution_count": null,
   "metadata": {},
   "outputs": [],
   "source": [
    "array([[1.       , 0.6835243],\n",
    "       [0.6835243, 1.       ]])"
   ]
  },
  {
   "cell_type": "code",
   "execution_count": 82,
   "metadata": {},
   "outputs": [
    {
     "name": "stderr",
     "output_type": "stream",
     "text": [
      "2022-07-10 01:39:35.126510: W tensorflow/python/util/util.cc:348] Sets are not currently considered sequences, but this may change in the future, so consider avoiding using them.\n"
     ]
    },
    {
     "name": "stdout",
     "output_type": "stream",
     "text": [
      "INFO:tensorflow:Assets written to: cnn_2432_0.7210/assets\n"
     ]
    }
   ],
   "source": [
    "model.save('cnn_2432_0.7210')"
   ]
  },
  {
   "cell_type": "code",
   "execution_count": 83,
   "metadata": {},
   "outputs": [],
   "source": [
    "np.save('test_7210', X_test)"
   ]
  },
  {
   "cell_type": "code",
   "execution_count": 86,
   "metadata": {},
   "outputs": [],
   "source": [
    "np.save('val_7210', X_val)"
   ]
  },
  {
   "cell_type": "code",
   "execution_count": null,
   "metadata": {},
   "outputs": [],
   "source": []
  }
 ],
 "metadata": {
  "kernelspec": {
   "display_name": "Python 3.8.12 ('base')",
   "language": "python",
   "name": "python3"
  },
  "language_info": {
   "codemirror_mode": {
    "name": "ipython",
    "version": 3
   },
   "file_extension": ".py",
   "mimetype": "text/x-python",
   "name": "python",
   "nbconvert_exporter": "python",
   "pygments_lexer": "ipython3",
   "version": "3.8.12"
  },
  "orig_nbformat": 4,
  "vscode": {
   "interpreter": {
    "hash": "d992dc99bef6935113868216bda8f8f78b2ccfafefe3a81c650196168d5e8fa4"
   }
  }
 },
 "nbformat": 4,
 "nbformat_minor": 2
}
