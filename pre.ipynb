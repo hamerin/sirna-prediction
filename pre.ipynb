{
 "cells": [
  {
   "cell_type": "code",
   "execution_count": 1,
   "metadata": {},
   "outputs": [],
   "source": [
    "import pandas as pd"
   ]
  },
  {
   "cell_type": "code",
   "execution_count": 38,
   "metadata": {},
   "outputs": [],
   "source": [
    "df1 = pd.read_csv('rna.csv')\n",
    "df1.drop('Unnamed: 0', axis=1, inplace=True)\n",
    "df1['Sequence'] = df1['Sequence'].str.slice(0, -2).str.lower()\n",
    "df1['Activity'] = (df1['Activity'] - df1['Activity'].min()) / (df1['Activity'].max() - df1['Activity'].min())"
   ]
  },
  {
   "cell_type": "code",
   "execution_count": 40,
   "metadata": {},
   "outputs": [
    {
     "data": {
      "text/plain": [
       "<AxesSubplot:>"
      ]
     },
     "execution_count": 40,
     "metadata": {},
     "output_type": "execute_result"
    },
    {
     "data": {
      "image/png": "[encoded data removed]",
      "text/plain": [
       "<Figure size 432x288 with 1 Axes>"
      ]
     },
     "metadata": {
      "needs_background": "light"
     },
     "output_type": "display_data"
    }
   ],
   "source": [
    "df1['Activity'].hist()"
   ]
  },
  {
   "cell_type": "code",
   "execution_count": 42,
   "metadata": {},
   "outputs": [],
   "source": [
    "df2 = pd.read_csv('~/whome/Downloads/12859_2005_804_MOESM4_ESM.csv', on_bad_lines='warn')\n",
    "df2 = df2[['Unnamed: 3', 'Activ']]\n",
    "df2 = df2.rename(columns={'Unnamed: 3': 'Sequence', 'Activ': 'Activity'})\n",
    "df2 = df2[~df2.isna().any(axis=1)]\n",
    "df2['Sequence'] = df2['Sequence'].str.lower()\n",
    "df2['Activity'] = (df2['Activity'] - df2['Activity'].min()) / (df2['Activity'].max() - df2['Activity'].min())"
   ]
  },
  {
   "cell_type": "code",
   "execution_count": 69,
   "metadata": {},
   "outputs": [],
   "source": [
    "df3 = pd.read_csv('~/whome/Downloads/rna 704.CSV', on_bad_lines='warn', header=1)\n",
    "df3 = df3[['Sequence of the passenger strand', 'Activity']].rename(columns={'Sequence of the passenger strand': 'Sequence'})\n",
    "df3['Sequence'] = df3['Sequence'].str.lower()\n",
    "df3['Activity'] = (df3['Activity'] - df3['Activity'].min()) / (df3['Activity'].max() - df3['Activity'].min())"
   ]
  },
  {
   "cell_type": "code",
   "execution_count": 74,
   "metadata": {},
   "outputs": [],
   "source": [
    "df = pd.concat([df2, df3], ignore_index=True)"
   ]
  },
  {
   "cell_type": "code",
   "execution_count": 75,
   "metadata": {},
   "outputs": [],
   "source": [
    "df.to_csv('rna_con.csv')"
   ]
  },
  {
   "cell_type": "code",
   "execution_count": 53,
   "metadata": {},
   "outputs": [],
   "source": [
    "df1.to_csv('rna.csv')"
   ]
  },
  {
   "cell_type": "code",
   "execution_count": null,
   "metadata": {},
   "outputs": [],
   "source": []
  }
 ],
 "metadata": {
  "kernelspec": {
   "display_name": "Python 3.8.12 ('base')",
   "language": "python",
   "name": "python3"
  },
  "language_info": {
   "codemirror_mode": {
    "name": "ipython",
    "version": 3
   },
   "file_extension": ".py",
   "mimetype": "text/x-python",
   "name": "python",
   "nbconvert_exporter": "python",
   "pygments_lexer": "ipython3",
   "version": "3.8.12"
  },
  "orig_nbformat": 4,
  "vscode": {
   "interpreter": {
    "hash": "d992dc99bef6935113868216bda8f8f78b2ccfafefe3a81c650196168d5e8fa4"
   }
  }
 },
 "nbformat": 4,
 "nbformat_minor": 2
}
